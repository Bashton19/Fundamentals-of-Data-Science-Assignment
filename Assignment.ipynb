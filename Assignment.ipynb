{
 "cells": [
  {
   "cell_type": "markdown",
   "metadata": {},
   "source": [
    "Import libraries."
   ]
  },
  {
   "cell_type": "code",
   "execution_count": null,
   "metadata": {},
   "outputs": [],
   "source": [
    "import pandas as pd\n",
    "import numpy as np\n",
    "import seaborn as sns\n",
    "import matplotlib.pyplot as plt\n",
    "%matplotlib inline\n",
    "from pandas_profiling import ProfileReport"
   ]
  },
  {
   "cell_type": "markdown",
   "metadata": {},
   "source": [
    "Read data in."
   ]
  },
  {
   "cell_type": "code",
   "execution_count": null,
   "metadata": {},
   "outputs": [],
   "source": [
    "census_df = pd.read_csv(\"CensusN4.csv\") # Read CSV in as dataframe"
   ]
  },
  {
   "cell_type": "code",
   "execution_count": null,
   "metadata": {
    "scrolled": true
   },
   "outputs": [],
   "source": [
    "census_df.head() # Snippet from top of the dataset"
   ]
  },
  {
   "cell_type": "code",
   "execution_count": null,
   "metadata": {},
   "outputs": [],
   "source": [
    "census_df.tail() # Snippet from bottom of dataset"
   ]
  },
  {
   "cell_type": "code",
   "execution_count": null,
   "metadata": {},
   "outputs": [],
   "source": [
    "census_df.shape # Get row and column count"
   ]
  },
  {
   "cell_type": "code",
   "execution_count": null,
   "metadata": {},
   "outputs": [],
   "source": [
    "profile = ProfileReport(census_df, title = \"Census Data Report\", explorative = True) # Produce profile report\n",
    "profile.to_file(\"census_report.html\") # Save as HTML file"
   ]
  },
  {
   "cell_type": "markdown",
   "metadata": {},
   "source": [
    "## Cleaning"
   ]
  },
  {
   "cell_type": "markdown",
   "metadata": {},
   "source": [
    "### Missing Entries"
   ]
  },
  {
   "cell_type": "markdown",
   "metadata": {},
   "source": [
    "Replace blank values and 'Na' with Numpy's nan value."
   ]
  },
  {
   "cell_type": "code",
   "execution_count": null,
   "metadata": {},
   "outputs": [],
   "source": [
    "census_df.replace([' '], [np.nan], inplace=True)\n",
    "census_df.replace(['Na'], [np.nan], inplace=True)"
   ]
  },
  {
   "cell_type": "markdown",
   "metadata": {},
   "source": [
    "See how many null values exist in each column."
   ]
  },
  {
   "cell_type": "code",
   "execution_count": null,
   "metadata": {},
   "outputs": [],
   "source": [
    "census_df.isna().sum()"
   ]
  },
  {
   "cell_type": "markdown",
   "metadata": {},
   "source": [
    "I'll work my way down, beginning with house number and street."
   ]
  },
  {
   "cell_type": "code",
   "execution_count": null,
   "metadata": {},
   "outputs": [],
   "source": [
    "census_df[census_df['House Number'].isna()] # Return rows with missing house number"
   ]
  },
  {
   "cell_type": "markdown",
   "metadata": {},
   "source": [
    "Let's check if anyone with her surname lives down the same street as her."
   ]
  },
  {
   "cell_type": "code",
   "execution_count": null,
   "metadata": {},
   "outputs": [],
   "source": [
    "census_df.loc[census_df['Surname'] == census_df.iloc[59]['Surname']] # Return rows with same surname"
   ]
  },
  {
   "cell_type": "markdown",
   "metadata": {},
   "source": [
    "We can deduce that Leigh Hobbs-Jones is Ann's Husband and lives with her at 23."
   ]
  },
  {
   "cell_type": "code",
   "execution_count": null,
   "metadata": {},
   "outputs": [],
   "source": [
    "census_df.at[59, 'House Number'] = 23 # Set to 23"
   ]
  },
  {
   "cell_type": "markdown",
   "metadata": {},
   "source": [
    "Street column is next, with 2 missing values."
   ]
  },
  {
   "cell_type": "code",
   "execution_count": null,
   "metadata": {
    "scrolled": true
   },
   "outputs": [],
   "source": [
    "census_df[census_df['Street'].isna()] # Return rows with missing streets"
   ]
  },
  {
   "cell_type": "markdown",
   "metadata": {},
   "source": [
    "Let's check if anyone with the surname Carter lives in the same house number."
   ]
  },
  {
   "cell_type": "code",
   "execution_count": null,
   "metadata": {},
   "outputs": [],
   "source": [
    "census_df.loc[census_df['Surname'] == census_df.iloc[508]['Surname']] # Return rows with same surname"
   ]
  },
  {
   "cell_type": "markdown",
   "metadata": {},
   "source": [
    "The only people living at a number one house with the surname Carter are Kerry and Paul, but Kerry is the head and there can't be two heads in one house. Furthermore, there is noone above him or below him in the census who he may live with."
   ]
  },
  {
   "cell_type": "code",
   "execution_count": null,
   "metadata": {},
   "outputs": [],
   "source": [
    "census_df[506:511] # Return rows surrounding subject"
   ]
  },
  {
   "cell_type": "markdown",
   "metadata": {},
   "source": [
    "However, it's clear the census is grouped into streets, and we can see that there is a number 1 missing for Westhatch Street. While it's possible that he lives in his own street which has been omitted, it's highly unlikely."
   ]
  },
  {
   "cell_type": "code",
   "execution_count": null,
   "metadata": {},
   "outputs": [],
   "source": [
    "census_df.at[508, 'Street'] = 'Westhatch Street' # Set to Westhatch Street"
   ]
  },
  {
   "cell_type": "markdown",
   "metadata": {},
   "source": [
    "Let's perform the same check for Gillian Thompson."
   ]
  },
  {
   "cell_type": "code",
   "execution_count": null,
   "metadata": {},
   "outputs": [],
   "source": [
    "census_df.loc[census_df['Surname'] == census_df.iloc[5715]['Surname']] # Return rows with same surname"
   ]
  },
  {
   "cell_type": "markdown",
   "metadata": {},
   "source": [
    "We know that Gillian is married and Intramystical, so we have a good chance of finding her partner, and then her street."
   ]
  },
  {
   "cell_type": "markdown",
   "metadata": {},
   "source": [
    "The only possible candidate is Clive Thompson. Perhaps most obviously is that he is directly below Gillian in the census, but this is also proven by the following - he lives at the same house number, he is Intramystical, he's husband to the head of the house (Gillian), and he's a similar age."
   ]
  },
  {
   "cell_type": "code",
   "execution_count": null,
   "metadata": {},
   "outputs": [],
   "source": [
    "census_df.at[5715, 'Street'] = \"Dickinson Avenue\" # Set to Dickinson Ave"
   ]
  },
  {
   "cell_type": "markdown",
   "metadata": {},
   "source": [
    "With addresses completed, I'm going to combine house number and street to create a single address for each user, for ease of use."
   ]
  },
  {
   "cell_type": "code",
   "execution_count": null,
   "metadata": {},
   "outputs": [],
   "source": [
    "census_df['Address'] = census_df['House Number'].astype(str) + \", \" + census_df['Street'] # Concatenate house number and street"
   ]
  },
  {
   "cell_type": "markdown",
   "metadata": {},
   "source": [
    "After closer inspection of the age column, some are written as strings while others are floats."
   ]
  },
  {
   "cell_type": "code",
   "execution_count": null,
   "metadata": {},
   "outputs": [],
   "source": [
    "census_df['Age'].value_counts(dropna=False) # Return value counts"
   ]
  },
  {
   "cell_type": "markdown",
   "metadata": {},
   "source": [
    "Convert to integers."
   ]
  },
  {
   "cell_type": "code",
   "execution_count": null,
   "metadata": {},
   "outputs": [],
   "source": [
    "census_df['Age'] = census_df['Age'].replace(['One', 'Nine', 'Ten'], ['1', '9', '10']) # Replace words with integers"
   ]
  },
  {
   "cell_type": "code",
   "execution_count": null,
   "metadata": {},
   "outputs": [],
   "source": [
    "census_df['Age'] = census_df['Age'].astype(float).astype(int) # Convert to floats"
   ]
  },
  {
   "cell_type": "markdown",
   "metadata": {},
   "source": [
    "Get minimum and maximum ages."
   ]
  },
  {
   "cell_type": "code",
   "execution_count": null,
   "metadata": {},
   "outputs": [],
   "source": [
    "census_df['Age'].min() # Minimum"
   ]
  },
  {
   "cell_type": "code",
   "execution_count": null,
   "metadata": {},
   "outputs": [],
   "source": [
    "census_df['Age'].max() # Maximum"
   ]
  },
  {
   "cell_type": "markdown",
   "metadata": {},
   "source": [
    "Next up, names."
   ]
  },
  {
   "cell_type": "code",
   "execution_count": null,
   "metadata": {},
   "outputs": [],
   "source": [
    "census_df[census_df['Surname'].isna()] # Return rows with misisng surname"
   ]
  },
  {
   "cell_type": "markdown",
   "metadata": {},
   "source": [
    "Many of them have two names in the first name column, presumably by accident, so we can manipulate the string to split this into a first and a surname."
   ]
  },
  {
   "cell_type": "code",
   "execution_count": null,
   "metadata": {},
   "outputs": [],
   "source": [
    "census_df.loc[census_df['First Name'].str.split().str.len() == 2, 'Surname'] = census_df['First Name'].str.split().str[-1] # Set surname equal to second half of string\n",
    "census_df.loc[census_df['First Name'].str.split().str.len() == 2, 'First Name'] = census_df['First Name'].str.split().str[0] # Set first name equal only to first half"
   ]
  },
  {
   "cell_type": "code",
   "execution_count": null,
   "metadata": {
    "scrolled": true
   },
   "outputs": [],
   "source": [
    "census_df[census_df['Surname'].isna()] # Return remaining rows with missing surnames"
   ]
  },
  {
   "cell_type": "markdown",
   "metadata": {},
   "source": [
    "For these two individuals, we can try deduce their surnames from their families."
   ]
  },
  {
   "cell_type": "code",
   "execution_count": null,
   "metadata": {},
   "outputs": [],
   "source": [
    "census_df.loc[census_df['Address'] == census_df.iloc[2588]['Address']] # Return rows with same address"
   ]
  },
  {
   "cell_type": "markdown",
   "metadata": {},
   "source": [
    "Their surname could be either Fletcher or Walters."
   ]
  },
  {
   "cell_type": "code",
   "execution_count": null,
   "metadata": {},
   "outputs": [],
   "source": [
    "# For now, I'll set it to Fletcher as it's the more frequent in the family\n",
    "census_df.at[2588, 'Surname'] = \"Fletcher\""
   ]
  },
  {
   "cell_type": "code",
   "execution_count": null,
   "metadata": {},
   "outputs": [],
   "source": [
    "census_df.loc[census_df['Address'] == census_df.iloc[4998]['Address']] # Return rows with same address"
   ]
  },
  {
   "cell_type": "markdown",
   "metadata": {},
   "source": [
    "We can safely assume Jill's surname is Blackburn."
   ]
  },
  {
   "cell_type": "code",
   "execution_count": null,
   "metadata": {},
   "outputs": [],
   "source": [
    "census_df.at[4998, 'Surname'] = \"Blackburn\" # Set to Blackburn"
   ]
  },
  {
   "cell_type": "markdown",
   "metadata": {},
   "source": [
    "Tackle marital status column next."
   ]
  },
  {
   "cell_type": "markdown",
   "metadata": {},
   "source": [
    "Marital status is a categorical column, so we will take a look at the possible values."
   ]
  },
  {
   "cell_type": "code",
   "execution_count": null,
   "metadata": {},
   "outputs": [],
   "source": [
    "census_df['Marital Status'].value_counts(dropna=False) # Return value counts"
   ]
  },
  {
   "cell_type": "markdown",
   "metadata": {},
   "source": [
    "Obviously, 'Div-orced' and \"Don't Ask!\" are invalid so we will deal with them."
   ]
  },
  {
   "cell_type": "markdown",
   "metadata": {},
   "source": [
    "For 'Div-orced', we will simply replace it with 'Divorced'."
   ]
  },
  {
   "cell_type": "code",
   "execution_count": null,
   "metadata": {},
   "outputs": [],
   "source": [
    "census_df['Marital Status'].replace('Div-orced', 'Divorced', inplace=True) # Replace spelling mistake"
   ]
  },
  {
   "cell_type": "markdown",
   "metadata": {},
   "source": [
    "Let's take a look at anyone who answered \"Don't Ask!\"."
   ]
  },
  {
   "cell_type": "code",
   "execution_count": null,
   "metadata": {},
   "outputs": [],
   "source": [
    "census_df.loc[census_df['Marital Status'] == \"Don't Ask!\"] # Inspect anomaly"
   ]
  },
  {
   "cell_type": "markdown",
   "metadata": {},
   "source": [
    "Inspect their household more closely."
   ]
  },
  {
   "cell_type": "code",
   "execution_count": null,
   "metadata": {},
   "outputs": [],
   "source": [
    "census_df.loc[census_df['Address'] == census_df.iloc[5924]['Address']] # Return rows with their address"
   ]
  },
  {
   "cell_type": "markdown",
   "metadata": {},
   "source": [
    "They live alone, so they're either divorced, single, or widowed."
   ]
  },
  {
   "cell_type": "markdown",
   "metadata": {},
   "source": [
    "Drop row for now,it's hard to know."
   ]
  },
  {
   "cell_type": "code",
   "execution_count": null,
   "metadata": {},
   "outputs": [],
   "source": [
    "census_df.drop(5924, inplace = True) # Drop row from data\n",
    "census_df.reset_index(drop=True, inplace=True) # Reset index"
   ]
  },
  {
   "cell_type": "markdown",
   "metadata": {},
   "source": [
    "A number of rows have a null value value for Marital Status so I'll take a closer look."
   ]
  },
  {
   "cell_type": "code",
   "execution_count": null,
   "metadata": {},
   "outputs": [],
   "source": [
    "census_df[census_df['Marital Status'].isna()] # Return rows with null marital status"
   ]
  },
  {
   "cell_type": "markdown",
   "metadata": {},
   "source": [
    "It's evident that all of them are minors so we can assume they're single."
   ]
  },
  {
   "cell_type": "code",
   "execution_count": null,
   "metadata": {},
   "outputs": [],
   "source": [
    "census_df.loc[census_df['Age'] < 18, 'Marital Status'] = \"Minor\" # Set all minors marital status to reflect their age"
   ]
  },
  {
   "cell_type": "markdown",
   "metadata": {},
   "source": [
    "Next, I'll address gender, which is categorical."
   ]
  },
  {
   "cell_type": "code",
   "execution_count": null,
   "metadata": {},
   "outputs": [],
   "source": [
    "census_df['Gender'].unique() # Return unique entries"
   ]
  },
  {
   "cell_type": "markdown",
   "metadata": {},
   "source": [
    "Replace with female."
   ]
  },
  {
   "cell_type": "code",
   "execution_count": null,
   "metadata": {},
   "outputs": [],
   "source": [
    "census_df['Gender'].replace('Fe-male', 'Female', inplace=True) # Replace spelling mistake"
   ]
  },
  {
   "cell_type": "code",
   "execution_count": null,
   "metadata": {},
   "outputs": [],
   "source": [
    "census_df[['First Name', 'Surname', 'Age', 'Relationship to Head of House', 'Gender']][census_df['Gender'].isna()] # Return rows with missing gender"
   ]
  },
  {
   "cell_type": "markdown",
   "metadata": {},
   "source": [
    "Our first subject, Elizabeth Murray can be presumed to be female from her name alone."
   ]
  },
  {
   "cell_type": "markdown",
   "metadata": {},
   "source": [
    "Grace Thomas and Shirley Johnston also have female names, and their gender is further evidenced by their relationship to head of house being 'Daughter'."
   ]
  },
  {
   "cell_type": "code",
   "execution_count": null,
   "metadata": {},
   "outputs": [],
   "source": [
    "census_df['Gender'].fillna(\"Female\", inplace=True) # Fill missing values with female"
   ]
  },
  {
   "cell_type": "markdown",
   "metadata": {},
   "source": [
    "Next is the occupation column."
   ]
  },
  {
   "cell_type": "code",
   "execution_count": null,
   "metadata": {},
   "outputs": [],
   "source": [
    "census_df[['First Name', 'Surname', 'Age', 'Occupation']][census_df['Occupation'].isna()] # Return rows with missing occupation"
   ]
  },
  {
   "cell_type": "markdown",
   "metadata": {},
   "source": [
    "Like every other child her age, we can assume Paige Nolan to be a student."
   ]
  },
  {
   "cell_type": "code",
   "execution_count": null,
   "metadata": {},
   "outputs": [],
   "source": [
    "census_df.at[4195, 'Occupation'] = \"Student\" # Set to student"
   ]
  },
  {
   "cell_type": "markdown",
   "metadata": {},
   "source": [
    "Let's look at Leanne's household for a better idea."
   ]
  },
  {
   "cell_type": "code",
   "execution_count": null,
   "metadata": {},
   "outputs": [],
   "source": [
    "census_df.loc[census_df['Address'] == census_df.iloc[6419]['Address']] # Inspect by address"
   ]
  },
  {
   "cell_type": "markdown",
   "metadata": {},
   "source": [
    "She's a single mother so presumably, she will have a job doing something."
   ]
  },
  {
   "cell_type": "markdown",
   "metadata": {},
   "source": [
    "There's no way of accurately guessing what her occupation is, so she can be removed instead."
   ]
  },
  {
   "cell_type": "code",
   "execution_count": null,
   "metadata": {},
   "outputs": [],
   "source": [
    "census_df.drop(6419, inplace = True) # Drop from data\n",
    "census_df.reset_index(drop=True, inplace=True) # Reset index"
   ]
  },
  {
   "cell_type": "markdown",
   "metadata": {},
   "source": [
    "Infirmity."
   ]
  },
  {
   "cell_type": "code",
   "execution_count": null,
   "metadata": {},
   "outputs": [],
   "source": [
    "census_df['Infirmity'].unique() # Return unique entries"
   ]
  },
  {
   "cell_type": "markdown",
   "metadata": {},
   "source": [
    "Infirmity percentages."
   ]
  },
  {
   "cell_type": "code",
   "execution_count": null,
   "metadata": {},
   "outputs": [],
   "source": [
    "census_df['Infirmity'].value_counts(dropna=False) # Return value counts"
   ]
  },
  {
   "cell_type": "markdown",
   "metadata": {},
   "source": [
    "Replace fake infirmities."
   ]
  },
  {
   "cell_type": "code",
   "execution_count": null,
   "metadata": {},
   "outputs": [],
   "source": [
    "# Replace fake infirmities with None\n",
    "census_df['Infirmity'].replace('Silly', 'None', inplace=True)\n",
    "census_df['Infirmity'].replace('Toothache', 'None', inplace=True)\n",
    "census_df['Infirmity'].replace('Skygazer', 'None', inplace=True)"
   ]
  },
  {
   "cell_type": "code",
   "execution_count": null,
   "metadata": {},
   "outputs": [],
   "source": [
    "census_df[['Age', 'Gender', 'Occupation', 'Infirmity']][census_df['Infirmity'].isna()] # Return rows with missing infirmity field"
   ]
  },
  {
   "cell_type": "markdown",
   "metadata": {},
   "source": [
    "There's no telling signs of infirmities we can gather, so we will just presume that the people above have no infirmity, as the vast majority of the population don't."
   ]
  },
  {
   "cell_type": "code",
   "execution_count": null,
   "metadata": {},
   "outputs": [],
   "source": [
    "census_df['Infirmity'].fillna('None', inplace=True) # Fill missing values with None"
   ]
  },
  {
   "cell_type": "markdown",
   "metadata": {},
   "source": [
    "Religion."
   ]
  },
  {
   "cell_type": "code",
   "execution_count": null,
   "metadata": {},
   "outputs": [],
   "source": [
    "census_df['Religion'].unique() # Return unique entries"
   ]
  },
  {
   "cell_type": "markdown",
   "metadata": {},
   "source": [
    "Potentially, we could write a function which examines each person and assesses their household's religion."
   ]
  },
  {
   "cell_type": "markdown",
   "metadata": {},
   "source": [
    "Here are the counts of each religion."
   ]
  },
  {
   "cell_type": "code",
   "execution_count": null,
   "metadata": {},
   "outputs": [],
   "source": [
    "census_df['Religion'].value_counts(dropna=False) # Return value counts"
   ]
  },
  {
   "cell_type": "code",
   "execution_count": null,
   "metadata": {},
   "outputs": [],
   "source": [
    "census_df[census_df['Religion'].isna()] # Return rows with missing religion"
   ]
  },
  {
   "cell_type": "markdown",
   "metadata": {},
   "source": [
    "Most of missing values belong to minors, set to undeclared."
   ]
  },
  {
   "cell_type": "code",
   "execution_count": null,
   "metadata": {},
   "outputs": [],
   "source": [
    "census_df.loc[census_df['Age'] < 18, 'Religion'] = \"Undeclared\" # Set minors to undeclared"
   ]
  },
  {
   "cell_type": "code",
   "execution_count": null,
   "metadata": {},
   "outputs": [],
   "source": [
    "census_df['Religion'].value_counts(dropna=False) # Return new value counts"
   ]
  },
  {
   "cell_type": "markdown",
   "metadata": {},
   "source": [
    "Get rid of fake religions."
   ]
  },
  {
   "cell_type": "code",
   "execution_count": null,
   "metadata": {},
   "outputs": [],
   "source": [
    "# Replace fake religions with None\n",
    "fake_religions = [\"Washer\", \"Angry\", \"Wisher\", \"Nopenope\"]\n",
    "for rel in fake_religions:\n",
    "    census_df['Religion'].replace(rel, 'None', inplace=True)"
   ]
  },
  {
   "cell_type": "markdown",
   "metadata": {},
   "source": [
    "Assume that those with NaN have no religion."
   ]
  },
  {
   "cell_type": "code",
   "execution_count": null,
   "metadata": {},
   "outputs": [],
   "source": [
    "#census_df['Religion'].fillna('None', inplace=True) # Fill missing values with None"
   ]
  },
  {
   "cell_type": "markdown",
   "metadata": {},
   "source": [
    "Or, use frequency."
   ]
  },
  {
   "cell_type": "code",
   "execution_count": null,
   "metadata": {},
   "outputs": [],
   "source": [
    "s = census_df['Religion'].value_counts(normalize=True)\n",
    "\n",
    "census_df.loc[census_df['Religion'].isna(), 'Religion'] = np.random.choice(s.index, p=s.values, size=census_df['Religion'].isna().sum())"
   ]
  },
  {
   "cell_type": "markdown",
   "metadata": {},
   "source": [
    "Which gives us the new value counts:"
   ]
  },
  {
   "cell_type": "code",
   "execution_count": null,
   "metadata": {},
   "outputs": [],
   "source": [
    "census_df['Religion'].value_counts(dropna=False)"
   ]
  },
  {
   "cell_type": "markdown",
   "metadata": {},
   "source": [
    "All missing values should now be dealt with."
   ]
  },
  {
   "cell_type": "code",
   "execution_count": null,
   "metadata": {},
   "outputs": [],
   "source": [
    "census_df.isna().sum() # Check for remaining missing values"
   ]
  },
  {
   "cell_type": "markdown",
   "metadata": {},
   "source": [
    "### Other Features"
   ]
  },
  {
   "cell_type": "markdown",
   "metadata": {},
   "source": [
    "Let's check the values of other categorical features, to ensure that they are valid."
   ]
  },
  {
   "cell_type": "code",
   "execution_count": null,
   "metadata": {},
   "outputs": [],
   "source": [
    "census_df['Relationship to Head of House'].unique() # Return unique entries"
   ]
  },
  {
   "cell_type": "markdown",
   "metadata": {},
   "source": [
    "We can assume 'None' to mean that the person in question is a Visitor of the house."
   ]
  },
  {
   "cell_type": "code",
   "execution_count": null,
   "metadata": {},
   "outputs": [],
   "source": [
    "census_df['Relationship to Head of House'].replace('None', 'Visitor', inplace=True) # Replace none with visitor"
   ]
  },
  {
   "cell_type": "markdown",
   "metadata": {},
   "source": [
    "Niece is spelt incorrectly so we can simply replace it."
   ]
  },
  {
   "cell_type": "code",
   "execution_count": null,
   "metadata": {},
   "outputs": [],
   "source": [
    "census_df['Relationship to Head of House'].replace('Neice', 'Niece', inplace=True) # Replace spelling mistake"
   ]
  },
  {
   "cell_type": "markdown",
   "metadata": {},
   "source": [
    "Next up is occupation."
   ]
  },
  {
   "cell_type": "code",
   "execution_count": null,
   "metadata": {},
   "outputs": [],
   "source": [
    "census_df['Occupation'].nunique() # Get unique count"
   ]
  },
  {
   "cell_type": "markdown",
   "metadata": {},
   "source": [
    "There's 1040 different occupations so it's impossible to check each occupation is valid."
   ]
  },
  {
   "cell_type": "markdown",
   "metadata": {},
   "source": [
    "## Analysis"
   ]
  },
  {
   "cell_type": "markdown",
   "metadata": {},
   "source": [
    "Let's begin further analysis, with an examination of age distribution."
   ]
  },
  {
   "cell_type": "code",
   "execution_count": null,
   "metadata": {},
   "outputs": [],
   "source": [
    "np.std(census_df['Age']) # Standard deviation"
   ]
  },
  {
   "cell_type": "code",
   "execution_count": null,
   "metadata": {},
   "outputs": [],
   "source": [
    "# Histogram depicting age\n",
    "hist = sns.displot(data = census_df, x = \"Age\", binwidth=10)\n",
    "hist.set(title = \"Age of Census\") # Set title"
   ]
  },
  {
   "cell_type": "code",
   "execution_count": null,
   "metadata": {},
   "outputs": [],
   "source": [
    "# Another histogram, but with gender taken into consideration\n",
    "hist = sns.displot(data = census_df, x = \"Age\", binwidth=20, hue = \"Gender\", multiple=\"dodge\")\n",
    "hist.set(title = \"Age of Census, per Gender\") # Set title"
   ]
  },
  {
   "cell_type": "markdown",
   "metadata": {},
   "source": [
    "Population Pyramid"
   ]
  },
  {
   "cell_type": "code",
   "execution_count": null,
   "metadata": {},
   "outputs": [],
   "source": [
    "# Put ages into new format\n",
    "age_df = pd.DataFrame({'Age': ['0-4','5-9','10-14','15-19','20-24','25-29','30-34','35-39','40-44','45-49','50-54','55-59','60-64','65-69','70-74','75-79','80-84','85-89','90+'],\n",
    "                          'Male': [-185, -211, -237, -275, -224, -189, -215, -254, -265, -201, -209, -186, -144, -123, -97, -72, -50, -24, -16],\n",
    "                          'Female': [141, 208, 218, 266, 263, 218, 293, 288, 329, 269, 241, 217, 163, 140, 120, 78, 51, 16, 16]})"
   ]
  },
  {
   "cell_type": "code",
   "execution_count": null,
   "metadata": {},
   "outputs": [],
   "source": [
    "age_order = ['90+','85-89','80-84','75-79','70-74','65-69','60-64','55-59','50-54','45-49','40-44','35-39','30-34','25-29','20-24','15-19','10-14','5-9','0-4'] # Order as such\n",
    "plt.figure(figsize=(10, 13)) # Set figure size\n",
    "bar_plot = sns.barplot(x='Male', y='Age', data = age_df, order=age_order) # Plot males\n",
    "bar_plot = sns.barplot(x='Female', y='Age', data=age_df, order=age_order) # Plot females\n",
    "bar_plot.set(xlabel = \"Population\", ylabel = \"Age\", title=\"Population Pyramid\") # Set labels and title"
   ]
  },
  {
   "cell_type": "code",
   "execution_count": null,
   "metadata": {},
   "outputs": [],
   "source": [
    "# Show descriptive stats of age in box plot\n",
    "age_box = sns.boxplot(data = census_df, x = \"Age\")\n",
    "age_box.set(title=\"Boxplot of Age\")"
   ]
  },
  {
   "cell_type": "markdown",
   "metadata": {},
   "source": [
    "Now, I'm going to look at unemployment trends."
   ]
  },
  {
   "cell_type": "code",
   "execution_count": null,
   "metadata": {},
   "outputs": [],
   "source": [
    "census_df['Occupation'].value_counts() # Return value counts for occupation"
   ]
  },
  {
   "cell_type": "markdown",
   "metadata": {},
   "source": [
    "Count number of children/students."
   ]
  },
  {
   "cell_type": "code",
   "execution_count": null,
   "metadata": {},
   "outputs": [],
   "source": [
    "student_count = len(census_df[census_df['Occupation'] == 'Student']) + len(census_df[census_df['Occupation'] == 'University Student']) + len(census_df[census_df['Occupation'] == 'Child']) + len(census_df[census_df['Occupation'] == 'PhD Student']) # Count students and children\n",
    "student_count"
   ]
  },
  {
   "cell_type": "markdown",
   "metadata": {},
   "source": [
    "Count number of retirees."
   ]
  },
  {
   "cell_type": "code",
   "execution_count": null,
   "metadata": {},
   "outputs": [],
   "source": [
    "retirees = len(census_df[census_df['Occupation'].str.contains(\"Retired\")]) # Count retired\n",
    "retirees"
   ]
  },
  {
   "cell_type": "markdown",
   "metadata": {},
   "source": [
    "Subtract to calculate number of economically active people."
   ]
  },
  {
   "cell_type": "code",
   "execution_count": null,
   "metadata": {},
   "outputs": [],
   "source": [
    "econ_active = len(census_df) - retirees - student_count # Subtract to get economically active population\n",
    "econ_active"
   ]
  },
  {
   "cell_type": "markdown",
   "metadata": {},
   "source": [
    "Divide unemployed count by number of economically active, and multiply by 100."
   ]
  },
  {
   "cell_type": "code",
   "execution_count": null,
   "metadata": {},
   "outputs": [],
   "source": [
    "# Calculate unemployment rate\n",
    "unemployment_rate = len(census_df[census_df['Occupation'] == 'Unemployed']) / econ_active\n",
    "unemployment_rate * 100"
   ]
  },
  {
   "cell_type": "markdown",
   "metadata": {},
   "source": [
    "Plot ages of unemployed people."
   ]
  },
  {
   "cell_type": "code",
   "execution_count": null,
   "metadata": {},
   "outputs": [],
   "source": [
    "# Plot age histogram of unemployed people\n",
    "hist_plot = sns.displot(data = census_df[census_df['Occupation'] == 'Unemployed'], x = \"Age\", binwidth=10)\n",
    "hist_plot.set(title = \"Age of Unemployed People\")"
   ]
  },
  {
   "cell_type": "markdown",
   "metadata": {},
   "source": [
    "Plot genders of unemployed people."
   ]
  },
  {
   "cell_type": "code",
   "execution_count": null,
   "metadata": {},
   "outputs": [],
   "source": [
    "# Plot genders of unemployed people\n",
    "bar_plot = sns.displot(data = census_df[census_df['Occupation'] == 'Unemployed'], x = \"Gender\", multiple=\"dodge\", binwidth=10)\n",
    "bar_plot.set(title = \"Gender of Unemployed People\")"
   ]
  },
  {
   "cell_type": "markdown",
   "metadata": {},
   "source": [
    "Count total gender gap in population."
   ]
  },
  {
   "cell_type": "code",
   "execution_count": null,
   "metadata": {},
   "outputs": [],
   "source": [
    "census_df['Gender'].value_counts() # Return gender value counts for comparison"
   ]
  },
  {
   "cell_type": "markdown",
   "metadata": {},
   "source": [
    "Work out percentages of unemployed men and women."
   ]
  },
  {
   "cell_type": "code",
   "execution_count": null,
   "metadata": {},
   "outputs": [],
   "source": [
    "male_unemployed = len(census_df[(census_df['Occupation']== 'Unemployed') & (census_df['Gender']=='Male')])\n",
    "female_unemployed = len(census_df[(census_df['Occupation']== 'Unemployed') & (census_df['Gender']=='Female')])"
   ]
  },
  {
   "cell_type": "code",
   "execution_count": null,
   "metadata": {},
   "outputs": [],
   "source": [
    "male_unemployed/len(census_df[census_df['Occupation'] == 'Unemployed']) * 100"
   ]
  },
  {
   "cell_type": "code",
   "execution_count": null,
   "metadata": {},
   "outputs": [],
   "source": [
    "female_unemployed/len(census_df[census_df['Occupation'] == 'Unemployed']) * 100"
   ]
  },
  {
   "cell_type": "markdown",
   "metadata": {},
   "source": [
    "Religion next."
   ]
  },
  {
   "cell_type": "code",
   "execution_count": null,
   "metadata": {},
   "outputs": [],
   "source": [
    "census_df['Religion'].value_counts(dropna=False) # Value counts for religion"
   ]
  },
  {
   "cell_type": "markdown",
   "metadata": {},
   "source": [
    "Plot religion bar chart."
   ]
  },
  {
   "cell_type": "code",
   "execution_count": null,
   "metadata": {},
   "outputs": [],
   "source": [
    "# Plot counts of each religion\n",
    "bar_plot = sns.displot(data = census_df, x = \"Religion\", binwidth=10)\n",
    "bar_plot.set(title=\"Religion of Census\")\n",
    "bar_plot.set_xticklabels(rotation=60)"
   ]
  },
  {
   "cell_type": "markdown",
   "metadata": {},
   "source": [
    "Plot categorical plot of religions vs age."
   ]
  },
  {
   "cell_type": "code",
   "execution_count": null,
   "metadata": {},
   "outputs": [],
   "source": [
    "cat_plot = sns.catplot(data = census_df, x = \"Religion\", y = \"Age\")\n",
    "cat_plot.set_xticklabels(rotation=60)\n",
    "cat_plot.set(title=\"Religions vs. Age\")"
   ]
  },
  {
   "cell_type": "markdown",
   "metadata": {},
   "source": [
    "Boxplot of religions vs age."
   ]
  },
  {
   "cell_type": "code",
   "execution_count": null,
   "metadata": {},
   "outputs": [],
   "source": [
    "box_plot = sns.boxplot(data = census_df, x = \"Religion\", y = \"Age\")\n",
    "box_plot.set_xticklabels(box_plot.get_xticklabels(),rotation=30)\n",
    "box_plot.set(title=\"Religions vs. Age\")"
   ]
  },
  {
   "cell_type": "markdown",
   "metadata": {},
   "source": [
    "Occupancy."
   ]
  },
  {
   "cell_type": "code",
   "execution_count": null,
   "metadata": {},
   "outputs": [],
   "source": [
    "census_df['Address'].nunique() # No. of unique addresses"
   ]
  },
  {
   "cell_type": "code",
   "execution_count": null,
   "metadata": {},
   "outputs": [],
   "source": [
    "census_df['Address'].count() # Number of people"
   ]
  },
  {
   "cell_type": "code",
   "execution_count": null,
   "metadata": {},
   "outputs": [],
   "source": [
    "census_df['Address'].count() / 2454 # Average per household"
   ]
  },
  {
   "cell_type": "markdown",
   "metadata": {},
   "source": [
    "Students."
   ]
  },
  {
   "cell_type": "code",
   "execution_count": null,
   "metadata": {},
   "outputs": [],
   "source": [
    "census_df['Occupation'][census_df['Occupation'] == 'University Student'].count() # Counts number of students"
   ]
  },
  {
   "cell_type": "code",
   "execution_count": null,
   "metadata": {},
   "outputs": [],
   "source": [
    "409 / census_df['Occupation'].count() * 100 # Percentage of population who are students"
   ]
  },
  {
   "cell_type": "markdown",
   "metadata": {},
   "source": [
    "Birth Rate"
   ]
  },
  {
   "cell_type": "code",
   "execution_count": null,
   "metadata": {},
   "outputs": [],
   "source": [
    "babies = census_df['Age'][census_df['Age'] == 0].count() # Count number of babies\n",
    "babies"
   ]
  },
  {
   "cell_type": "code",
   "execution_count": null,
   "metadata": {},
   "outputs": [],
   "source": [
    "birth_rate =  (babies / len(census_df)) * 100000 # Calculate birth rate"
   ]
  },
  {
   "cell_type": "code",
   "execution_count": null,
   "metadata": {},
   "outputs": [],
   "source": [
    "print(\"Current rate:\",\"%.2f\" % birth_rate,\"births per 100,000\")"
   ]
  },
  {
   "cell_type": "code",
   "execution_count": null,
   "metadata": {},
   "outputs": [],
   "source": [
    "four_yrs = census_df['Age'][census_df['Age'] == 4].count() # Count number of 4 year olds\n",
    "four_yrs"
   ]
  },
  {
   "cell_type": "code",
   "execution_count": null,
   "metadata": {},
   "outputs": [],
   "source": [
    "birth_rate_2 = (four_yrs / len(census_df)) * 100000 # Calculate birth rate of 5 years ago"
   ]
  },
  {
   "cell_type": "code",
   "execution_count": null,
   "metadata": {},
   "outputs": [],
   "source": [
    "print(\"Past rate:\",\"%.2f\" % birth_rate_2,\"births per 100,000\")"
   ]
  },
  {
   "cell_type": "markdown",
   "metadata": {},
   "source": [
    "Death Rate"
   ]
  },
  {
   "cell_type": "code",
   "execution_count": null,
   "metadata": {},
   "outputs": [],
   "source": [
    "middle_age = len(census_df[(census_df['Age'] > 55) & (census_df['Age'] < 61)]) # Count number of 56-60\n",
    "middle_age"
   ]
  },
  {
   "cell_type": "code",
   "execution_count": null,
   "metadata": {},
   "outputs": [],
   "source": [
    "older = len(census_df[(census_df['Age'] > 60) & (census_df['Age'] < 66)]) # Count number of 61-65\n",
    "older"
   ]
  },
  {
   "cell_type": "code",
   "execution_count": null,
   "metadata": {},
   "outputs": [],
   "source": [
    "death_rate = middle_age - older # Subtract to get a death rate per 5 years"
   ]
  },
  {
   "cell_type": "code",
   "execution_count": null,
   "metadata": {},
   "outputs": [],
   "source": [
    "print(\"Death rate of first group:\",death_rate/5,\"per annum\") # Divide by 5"
   ]
  },
  {
   "cell_type": "code",
   "execution_count": null,
   "metadata": {},
   "outputs": [],
   "source": [
    "old_age = len(census_df[(census_df['Age'] > 65) & (census_df['Age'] < 71)]) # Count number of 66-70\n",
    "old_age"
   ]
  },
  {
   "cell_type": "code",
   "execution_count": null,
   "metadata": {},
   "outputs": [],
   "source": [
    "older_2 = len(census_df[(census_df['Age'] > 70) & (census_df['Age'] < 76)]) # Count number of 71-75\n",
    "older_2"
   ]
  },
  {
   "cell_type": "code",
   "execution_count": null,
   "metadata": {},
   "outputs": [],
   "source": [
    "death_rate_2 = old_age - older_2 # Subtract to get a death rate per 5 years"
   ]
  },
  {
   "cell_type": "code",
   "execution_count": null,
   "metadata": {},
   "outputs": [],
   "source": [
    "print(\"Death rate of second group:\",death_rate_2/5,\"per annum\") # Divide by 5"
   ]
  },
  {
   "cell_type": "code",
   "execution_count": null,
   "metadata": {},
   "outputs": [],
   "source": [
    "# Count number of 76-80 and 81-85\n",
    "age_3 = len(census_df[(census_df['Age'] > 75) & (census_df['Age'] < 81)])\n",
    "older_3 = len(census_df[(census_df['Age'] > 80) & (census_df['Age'] < 86)])"
   ]
  },
  {
   "cell_type": "code",
   "execution_count": null,
   "metadata": {},
   "outputs": [],
   "source": [
    "death_rate_3 = age_3 - older_3 # Subtract for death rate"
   ]
  },
  {
   "cell_type": "code",
   "execution_count": null,
   "metadata": {},
   "outputs": [],
   "source": [
    "print(\"Death rate of third group:\",death_rate_3/5,\"per annum\") # Divide by 5"
   ]
  },
  {
   "cell_type": "code",
   "execution_count": null,
   "metadata": {},
   "outputs": [],
   "source": [
    "# Repeat\n",
    "age_4 = len(census_df[(census_df['Age'] > 85) & (census_df['Age'] < 91)])\n",
    "older_4 = len(census_df[(census_df['Age'] > 90) & (census_df['Age'] < 96)])\n",
    "death_rate_4 = age_4-older_4"
   ]
  },
  {
   "cell_type": "code",
   "execution_count": null,
   "metadata": {},
   "outputs": [],
   "source": [
    "print(\"Death rate of fourth group:\",death_rate_4/5,\"per annum\")"
   ]
  },
  {
   "cell_type": "code",
   "execution_count": null,
   "metadata": {},
   "outputs": [],
   "source": [
    "#Repeat\n",
    "age_5 = len(census_df[(census_df['Age'] > 95) & (census_df['Age'] < 101)])\n",
    "older_5 = len(census_df[census_df['Age'] > 100])\n",
    "death_rate_5 = age_5 - older_5"
   ]
  },
  {
   "cell_type": "code",
   "execution_count": null,
   "metadata": {},
   "outputs": [],
   "source": [
    "print(\"Death rate of fifth group:\",death_rate_5/5,\"per annum\")"
   ]
  },
  {
   "cell_type": "code",
   "execution_count": null,
   "metadata": {},
   "outputs": [],
   "source": [
    "# Add deaths together for total\n",
    "total_deaths = death_rate+death_rate_2+death_rate_3+death_rate_4+death_rate_5 "
   ]
  },
  {
   "cell_type": "code",
   "execution_count": null,
   "metadata": {},
   "outputs": [],
   "source": [
    "total_death_rate = (total_deaths / len(census_df)) * 100000 # Per 100,000 people"
   ]
  },
  {
   "cell_type": "code",
   "execution_count": null,
   "metadata": {},
   "outputs": [],
   "source": [
    "print(\"Total death rate:\",\"%.2f\" % total_death_rate,\"per 100,000\")"
   ]
  },
  {
   "cell_type": "code",
   "execution_count": null,
   "metadata": {},
   "outputs": [],
   "source": [
    "2324/5 # Divide by 5 to get per annum"
   ]
  }
 ],
 "metadata": {
  "kernelspec": {
   "display_name": "Python 3",
   "language": "python",
   "name": "python3"
  },
  "language_info": {
   "codemirror_mode": {
    "name": "ipython",
    "version": 3
   },
   "file_extension": ".py",
   "mimetype": "text/x-python",
   "name": "python",
   "nbconvert_exporter": "python",
   "pygments_lexer": "ipython3",
   "version": "3.8.5"
  }
 },
 "nbformat": 4,
 "nbformat_minor": 2
}
